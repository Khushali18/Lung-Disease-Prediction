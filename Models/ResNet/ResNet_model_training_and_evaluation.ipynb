{
 "cells": [
  {
   "cell_type": "markdown",
   "id": "dda3f556-21f3-4d8d-9561-9509c697ec02",
   "metadata": {},
   "source": [
    "# Lung Disease Classification"
   ]
  },
  {
   "cell_type": "markdown",
   "id": "f927f739-d1a7-4dc5-b938-a6e4accea173",
   "metadata": {},
   "source": [
    "Dataset\n",
    "Lung X-ray Diseases from Kaggle\n",
    "\n",
    "Link: https://www.kaggle.com/datasets/fatemehmehrparvar/lung-diseaseit \n",
    "\n",
    "This image dataset has 3 Lung X-ray classes namely Lung Opacity, Normal and Viral Pneumonia. Here in this pipeline we are classifying these three classes using ResNet model"
   ]
  },
  {
   "cell_type": "markdown",
   "id": "d4aeddb8-eb8b-4c80-a8ee-58a5b5f46eb5",
   "metadata": {},
   "source": [
    "### 1. Importing Libraries"
   ]
  },
  {
   "cell_type": "code",
   "execution_count": 1,
   "id": "44ae271b-1e0c-4c18-8b40-8f5896b6bac3",
   "metadata": {},
   "outputs": [],
   "source": [
    "import os\n",
    "import warnings\n",
    "warnings.filterwarnings(\"ignore\")\n",
    "\n",
    "from PIL import Image\n",
    "import numpy as np\n",
    "import pandas as pd\n",
    "from Utilities import prepare_train_test_data, create_resnet_model, prepare_data_for_resnet_model, train_resnet_model, evaluate_model"
   ]
  },
  {
   "cell_type": "code",
   "execution_count": 2,
   "id": "b9c47bbb-dfb6-4b64-9681-e9bcf0f51402",
   "metadata": {},
   "outputs": [],
   "source": [
    "path_to_new_folder = '../../Data/processed Lung X-ray Image/'"
   ]
  },
  {
   "cell_type": "markdown",
   "id": "0d326f90-2a27-467f-8a78-0cf9e6de5347",
   "metadata": {},
   "source": [
    "### 2. Splitting data into Train and Test sets\n",
    "Train = 80% and Test = 20%"
   ]
  },
  {
   "cell_type": "code",
   "execution_count": 3,
   "id": "ea92926e-1306-4456-be53-91890d2d6a71",
   "metadata": {},
   "outputs": [],
   "source": [
    "X_train, X_test, y_train, y_test = prepare_train_test_data(path_to_new_folder, img_ext=('.jpg', '.jpeg'), num_classes=3, test_size=0.2, random_state=42)"
   ]
  },
  {
   "cell_type": "markdown",
   "id": "218dc644-cabd-486c-aba6-a9f8dd4bc014",
   "metadata": {},
   "source": [
    "### 3. Model\n",
    "#### 3.1. ResNet Model"
   ]
  },
  {
   "cell_type": "code",
   "execution_count": 4,
   "id": "5a0bb7d5-38b8-450b-ad10-b4b44aa22d8e",
   "metadata": {},
   "outputs": [],
   "source": [
    "resnet_model = create_resnet_model(num_classes=3)"
   ]
  },
  {
   "cell_type": "markdown",
   "id": "64a95280-6296-44e6-babf-0042ab26b2a8",
   "metadata": {},
   "source": [
    "#### 3.2. Preparing data for model"
   ]
  },
  {
   "cell_type": "code",
   "execution_count": 5,
   "id": "3dffc220-202a-4cca-ac7f-959ad03bb497",
   "metadata": {},
   "outputs": [],
   "source": [
    "train_generator, test_generator = prepare_data_for_resnet_model(X_train, y_train, X_test, y_test)"
   ]
  },
  {
   "cell_type": "markdown",
   "id": "fa867035-6ef6-41f1-9e06-7ba750c6cb58",
   "metadata": {},
   "source": [
    "#### 3.3. Train and Save the model"
   ]
  },
  {
   "cell_type": "code",
   "execution_count": 6,
   "id": "126efa78-fc57-4082-b086-d382c50ef63c",
   "metadata": {},
   "outputs": [
    {
     "name": "stdout",
     "output_type": "stream",
     "text": [
      "Epoch 1/20\n",
      "\u001b[1m87/87\u001b[0m \u001b[32m━━━━━━━━━━━━━━━━━━━━\u001b[0m\u001b[37m\u001b[0m \u001b[1m515s\u001b[0m 5s/step - accuracy: 0.6937 - loss: 9.4581 - val_accuracy: 0.9281 - val_loss: 0.2091\n",
      "Epoch 2/20\n",
      "\u001b[1m87/87\u001b[0m \u001b[32m━━━━━━━━━━━━━━━━━━━━\u001b[0m\u001b[37m\u001b[0m \u001b[1m430s\u001b[0m 5s/step - accuracy: 0.8621 - loss: 0.4075 - val_accuracy: 0.9468 - val_loss: 0.1809\n",
      "Epoch 3/20\n",
      "\u001b[1m87/87\u001b[0m \u001b[32m━━━━━━━━━━━━━━━━━━━━\u001b[0m\u001b[37m\u001b[0m \u001b[1m420s\u001b[0m 5s/step - accuracy: 0.8690 - loss: 0.3388 - val_accuracy: 0.9597 - val_loss: 0.1533\n",
      "Epoch 4/20\n",
      "\u001b[1m87/87\u001b[0m \u001b[32m━━━━━━━━━━━━━━━━━━━━\u001b[0m\u001b[37m\u001b[0m \u001b[1m490s\u001b[0m 6s/step - accuracy: 0.9009 - loss: 0.2935 - val_accuracy: 0.9683 - val_loss: 0.0989\n",
      "Epoch 5/20\n",
      "\u001b[1m87/87\u001b[0m \u001b[32m━━━━━━━━━━━━━━━━━━━━\u001b[0m\u001b[37m\u001b[0m \u001b[1m425s\u001b[0m 5s/step - accuracy: 0.8991 - loss: 0.2886 - val_accuracy: 0.9626 - val_loss: 0.1135\n",
      "Epoch 6/20\n",
      "\u001b[1m87/87\u001b[0m \u001b[32m━━━━━━━━━━━━━━━━━━━━\u001b[0m\u001b[37m\u001b[0m \u001b[1m483s\u001b[0m 6s/step - accuracy: 0.8971 - loss: 0.2694 - val_accuracy: 0.9669 - val_loss: 0.1024\n",
      "Epoch 7/20\n",
      "\u001b[1m87/87\u001b[0m \u001b[32m━━━━━━━━━━━━━━━━━━━━\u001b[0m\u001b[37m\u001b[0m \u001b[1m507s\u001b[0m 6s/step - accuracy: 0.8985 - loss: 0.2884 - val_accuracy: 0.9640 - val_loss: 0.0890\n",
      "Epoch 8/20\n",
      "\u001b[1m87/87\u001b[0m \u001b[32m━━━━━━━━━━━━━━━━━━━━\u001b[0m\u001b[37m\u001b[0m \u001b[1m478s\u001b[0m 5s/step - accuracy: 0.9121 - loss: 0.2398 - val_accuracy: 0.9712 - val_loss: 0.0791\n",
      "Epoch 9/20\n",
      "\u001b[1m87/87\u001b[0m \u001b[32m━━━━━━━━━━━━━━━━━━━━\u001b[0m\u001b[37m\u001b[0m \u001b[1m443s\u001b[0m 5s/step - accuracy: 0.9159 - loss: 0.2434 - val_accuracy: 0.9683 - val_loss: 0.0980\n",
      "Epoch 10/20\n",
      "\u001b[1m87/87\u001b[0m \u001b[32m━━━━━━━━━━━━━━━━━━━━\u001b[0m\u001b[37m\u001b[0m \u001b[1m487s\u001b[0m 5s/step - accuracy: 0.9105 - loss: 0.2259 - val_accuracy: 0.9640 - val_loss: 0.0987\n",
      "Epoch 11/20\n",
      "\u001b[1m87/87\u001b[0m \u001b[32m━━━━━━━━━━━━━━━━━━━━\u001b[0m\u001b[37m\u001b[0m \u001b[1m412s\u001b[0m 5s/step - accuracy: 0.9243 - loss: 0.1926 - val_accuracy: 0.9727 - val_loss: 0.0844\n",
      "Epoch 12/20\n",
      "\u001b[1m87/87\u001b[0m \u001b[32m━━━━━━━━━━━━━━━━━━━━\u001b[0m\u001b[37m\u001b[0m \u001b[1m434s\u001b[0m 5s/step - accuracy: 0.9229 - loss: 0.1994 - val_accuracy: 0.9568 - val_loss: 0.1831\n",
      "Epoch 13/20\n",
      "\u001b[1m87/87\u001b[0m \u001b[32m━━━━━━━━━━━━━━━━━━━━\u001b[0m\u001b[37m\u001b[0m \u001b[1m408s\u001b[0m 5s/step - accuracy: 0.9291 - loss: 0.1978 - val_accuracy: 0.9612 - val_loss: 0.0954\n",
      "Epoch 14/20\n",
      "\u001b[1m87/87\u001b[0m \u001b[32m━━━━━━━━━━━━━━━━━━━━\u001b[0m\u001b[37m\u001b[0m \u001b[1m410s\u001b[0m 5s/step - accuracy: 0.9266 - loss: 0.2030 - val_accuracy: 0.9712 - val_loss: 0.0852\n",
      "Epoch 15/20\n",
      "\u001b[1m87/87\u001b[0m \u001b[32m━━━━━━━━━━━━━━━━━━━━\u001b[0m\u001b[37m\u001b[0m \u001b[1m392s\u001b[0m 5s/step - accuracy: 0.9215 - loss: 0.1738 - val_accuracy: 0.9640 - val_loss: 0.0885\n",
      "Epoch 16/20\n",
      "\u001b[1m87/87\u001b[0m \u001b[32m━━━━━━━━━━━━━━━━━━━━\u001b[0m\u001b[37m\u001b[0m \u001b[1m409s\u001b[0m 5s/step - accuracy: 0.9452 - loss: 0.1444 - val_accuracy: 0.9482 - val_loss: 0.1810\n",
      "Epoch 17/20\n",
      "\u001b[1m87/87\u001b[0m \u001b[32m━━━━━━━━━━━━━━━━━━━━\u001b[0m\u001b[37m\u001b[0m \u001b[1m437s\u001b[0m 5s/step - accuracy: 0.9286 - loss: 0.1981 - val_accuracy: 0.9669 - val_loss: 0.0911\n",
      "Epoch 18/20\n",
      "\u001b[1m87/87\u001b[0m \u001b[32m━━━━━━━━━━━━━━━━━━━━\u001b[0m\u001b[37m\u001b[0m \u001b[1m397s\u001b[0m 5s/step - accuracy: 0.9416 - loss: 0.1574 - val_accuracy: 0.9669 - val_loss: 0.1002\n",
      "Epoch 19/20\n",
      "\u001b[1m87/87\u001b[0m \u001b[32m━━━━━━━━━━━━━━━━━━━━\u001b[0m\u001b[37m\u001b[0m \u001b[1m71s\u001b[0m 799ms/step - accuracy: 0.9443 - loss: 0.1498 - val_accuracy: 0.9741 - val_loss: 0.0925\n",
      "Epoch 20/20\n",
      "\u001b[1m87/87\u001b[0m \u001b[32m━━━━━━━━━━━━━━━━━━━━\u001b[0m\u001b[37m\u001b[0m \u001b[1m137s\u001b[0m 2s/step - accuracy: 0.9516 - loss: 0.1620 - val_accuracy: 0.9770 - val_loss: 0.0777\n"
     ]
    },
    {
     "name": "stderr",
     "output_type": "stream",
     "text": [
      "WARNING:absl:You are saving your model as an HDF5 file via `model.save()` or `keras.saving.save_model(model)`. This file format is considered legacy. We recommend using instead the native Keras format, e.g. `model.save('my_model.keras')` or `keras.saving.save_model(model, 'my_model.keras')`. \n"
     ]
    },
    {
     "data": {
      "text/plain": [
       "<keras.src.callbacks.history.History at 0x267edb06930>"
      ]
     },
     "execution_count": 6,
     "metadata": {},
     "output_type": "execute_result"
    }
   ],
   "source": [
    "train_resnet_model(resnet_model, train_generator, test_generator, epochs=20)"
   ]
  },
  {
   "cell_type": "markdown",
   "id": "887e5cda-ac13-468b-b4f6-823952aef655",
   "metadata": {},
   "source": [
    "#### 3.4. Test and Evaluate the model"
   ]
  },
  {
   "cell_type": "code",
   "execution_count": 7,
   "id": "0b3bc3f4-2427-4f24-b880-ba4fba634a15",
   "metadata": {},
   "outputs": [
    {
     "name": "stderr",
     "output_type": "stream",
     "text": [
      "WARNING:absl:Compiled the loaded model, but the compiled metrics have yet to be built. `model.compile_metrics` will be empty until you train or evaluate the model.\n"
     ]
    },
    {
     "name": "stdout",
     "output_type": "stream",
     "text": [
      "\u001b[1m22/22\u001b[0m \u001b[32m━━━━━━━━━━━━━━━━━━━━\u001b[0m\u001b[37m\u001b[0m \u001b[1m64s\u001b[0m 2s/step - accuracy: 0.9774 - loss: 0.0726\n",
      "Test accuracy: 97.70%\n",
      "Test loss: 0.0777\n"
     ]
    }
   ],
   "source": [
    "test_accuracy, test_loss = evaluate_model('resnet_model.h5', test_generator)"
   ]
  }
 ],
 "metadata": {
  "kernelspec": {
   "display_name": "Python 3 (ipykernel)",
   "language": "python",
   "name": "python3"
  },
  "language_info": {
   "codemirror_mode": {
    "name": "ipython",
    "version": 3
   },
   "file_extension": ".py",
   "mimetype": "text/x-python",
   "name": "python",
   "nbconvert_exporter": "python",
   "pygments_lexer": "ipython3",
   "version": "3.12.4"
  }
 },
 "nbformat": 4,
 "nbformat_minor": 5
}
