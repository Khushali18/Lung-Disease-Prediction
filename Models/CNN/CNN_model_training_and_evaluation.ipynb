{
 "cells": [
  {
   "cell_type": "markdown",
   "id": "87d335f8-9bd7-45b1-b1cd-751ef04aec50",
   "metadata": {},
   "source": [
    "# Lung Disease Classifications."
   ]
  },
  {
   "cell_type": "markdown",
   "id": "8354cb73-ee04-4167-833f-579eb6288af8",
   "metadata": {},
   "source": [
    "Dataset\n",
    "Lung X-ray Diseases from Kaggle\n",
    "\n",
    "Link: https://www.kaggle.com/datasets/fatemehmehrparvar/lung-diseaseit \n",
    "\n",
    "This image dataset has 3 Lung X-ray classes namely Lung Opacity, Normal and Viral Pneumonia. Here in this pipeline we are classifying these three classes using CNN model"
   ]
  },
  {
   "cell_type": "markdown",
   "id": "f011e37d-27ee-4b6c-9837-38e13fea3a72",
   "metadata": {},
   "source": [
    "### 1. Import Libraries"
   ]
  },
  {
   "cell_type": "code",
   "execution_count": 1,
   "id": "cbb8d4fb-8137-4981-9058-adcaeb0f15df",
   "metadata": {},
   "outputs": [],
   "source": [
    "import os\n",
    "import warnings\n",
    "warnings.filterwarnings(\"ignore\")\n",
    "\n",
    "from PIL import Image\n",
    "import numpy as np\n",
    "import pandas as pd\n",
    "from Utilities import prepare_train_test_data, create_cnn_model, prepare_data_for_cnn_model, train_cnn_model, evaluate_model"
   ]
  },
  {
   "cell_type": "code",
   "execution_count": 2,
   "id": "45af8ae2-e72f-46c1-bd3d-698dc3fd7b79",
   "metadata": {},
   "outputs": [],
   "source": [
    "path_to_new_folder = '../../Data/processed Lung X-ray Image/'"
   ]
  },
  {
   "cell_type": "markdown",
   "id": "73d6490e-ad98-4392-8ccb-47673c4dd2f5",
   "metadata": {},
   "source": [
    "### 2. Spliting Data into Train and Test sets\n",
    "Train = 80% and Test = 20%"
   ]
  },
  {
   "cell_type": "code",
   "execution_count": 3,
   "id": "d026897d-dc06-4461-a051-1f94f8abc4ce",
   "metadata": {},
   "outputs": [],
   "source": [
    "X_train, X_test, y_train, y_test = prepare_train_test_data(path_to_new_folder, img_ext=('.jpg', '.jpeg'), num_classes=3, test_size=0.2, random_state=42)"
   ]
  },
  {
   "cell_type": "markdown",
   "id": "f0f01c2b-1fcc-4eec-ad5b-67af28ed6908",
   "metadata": {},
   "source": [
    "### 3. Model\n",
    "#### 3.1. CNN model\n",
    "3 Convolutional layers using 32, 64, 128 3x3 filters respectively and one fully connected layer and  compiled with Adam optimize\r\n"
   ]
  },
  {
   "cell_type": "code",
   "execution_count": 4,
   "id": "e5117617-5820-4e0d-a34f-437b319ac64f",
   "metadata": {},
   "outputs": [],
   "source": [
    "cnn_model = create_cnn_model()"
   ]
  },
  {
   "cell_type": "markdown",
   "id": "aa182e74-4f08-4e96-9ff4-71d167cefee2",
   "metadata": {},
   "source": [
    "#### 3.2. Preparing Data for model"
   ]
  },
  {
   "cell_type": "code",
   "execution_count": 5,
   "id": "50b23d4c-327b-4612-8382-aef5ab388ca5",
   "metadata": {},
   "outputs": [],
   "source": [
    "train_generator, test_generator = prepare_data_for_cnn_model(X_train, y_train, X_test, y_test)"
   ]
  },
  {
   "cell_type": "markdown",
   "id": "1db5ec18-9fbf-4711-b58d-c57e0b92177c",
   "metadata": {},
   "source": [
    "#### 3.3 Train and Save the model"
   ]
  },
  {
   "cell_type": "code",
   "execution_count": 6,
   "id": "cbf96708-7204-4d4a-a265-1787838252de",
   "metadata": {},
   "outputs": [
    {
     "name": "stdout",
     "output_type": "stream",
     "text": [
      "Epoch 1/20\n",
      "\u001b[1m87/87\u001b[0m \u001b[32m━━━━━━━━━━━━━━━━━━━━\u001b[0m\u001b[37m\u001b[0m \u001b[1m131s\u001b[0m 1s/step - accuracy: 0.4603 - loss: 110.6007 - val_accuracy: 0.6835 - val_loss: 0.7581\n",
      "Epoch 2/20\n",
      "\u001b[1m87/87\u001b[0m \u001b[32m━━━━━━━━━━━━━━━━━━━━\u001b[0m\u001b[37m\u001b[0m \u001b[1m132s\u001b[0m 2s/step - accuracy: 0.6113 - loss: 0.8783 - val_accuracy: 0.6532 - val_loss: 0.8533\n",
      "Epoch 3/20\n",
      "\u001b[1m87/87\u001b[0m \u001b[32m━━━━━━━━━━━━━━━━━━━━\u001b[0m\u001b[37m\u001b[0m \u001b[1m132s\u001b[0m 2s/step - accuracy: 0.6108 - loss: 0.9112 - val_accuracy: 0.5827 - val_loss: 0.8838\n",
      "Epoch 4/20\n",
      "\u001b[1m87/87\u001b[0m \u001b[32m━━━━━━━━━━━━━━━━━━━━\u001b[0m\u001b[37m\u001b[0m \u001b[1m132s\u001b[0m 2s/step - accuracy: 0.5664 - loss: 0.9461 - val_accuracy: 0.6245 - val_loss: 0.8661\n",
      "Epoch 5/20\n",
      "\u001b[1m87/87\u001b[0m \u001b[32m━━━━━━━━━━━━━━━━━━━━\u001b[0m\u001b[37m\u001b[0m \u001b[1m128s\u001b[0m 1s/step - accuracy: 0.5988 - loss: 0.9103 - val_accuracy: 0.6388 - val_loss: 0.8268\n",
      "Epoch 6/20\n",
      "\u001b[1m87/87\u001b[0m \u001b[32m━━━━━━━━━━━━━━━━━━━━\u001b[0m\u001b[37m\u001b[0m \u001b[1m131s\u001b[0m 2s/step - accuracy: 0.6224 - loss: 0.8356 - val_accuracy: 0.6417 - val_loss: 0.8282\n",
      "Epoch 7/20\n",
      "\u001b[1m87/87\u001b[0m \u001b[32m━━━━━━━━━━━━━━━━━━━━\u001b[0m\u001b[37m\u001b[0m \u001b[1m130s\u001b[0m 1s/step - accuracy: 0.5780 - loss: 0.9032 - val_accuracy: 0.6518 - val_loss: 0.8082\n",
      "Epoch 8/20\n",
      "\u001b[1m87/87\u001b[0m \u001b[32m━━━━━━━━━━━━━━━━━━━━\u001b[0m\u001b[37m\u001b[0m \u001b[1m125s\u001b[0m 1s/step - accuracy: 0.6256 - loss: 0.8350 - val_accuracy: 0.7266 - val_loss: 0.6884\n",
      "Epoch 9/20\n",
      "\u001b[1m87/87\u001b[0m \u001b[32m━━━━━━━━━━━━━━━━━━━━\u001b[0m\u001b[37m\u001b[0m \u001b[1m133s\u001b[0m 2s/step - accuracy: 0.6401 - loss: 0.8018 - val_accuracy: 0.5842 - val_loss: 0.8932\n",
      "Epoch 10/20\n",
      "\u001b[1m87/87\u001b[0m \u001b[32m━━━━━━━━━━━━━━━━━━━━\u001b[0m\u001b[37m\u001b[0m \u001b[1m128s\u001b[0m 1s/step - accuracy: 0.4406 - loss: 1.0739 - val_accuracy: 0.5281 - val_loss: 0.9460\n",
      "Epoch 11/20\n",
      "\u001b[1m87/87\u001b[0m \u001b[32m━━━━━━━━━━━━━━━━━━━━\u001b[0m\u001b[37m\u001b[0m \u001b[1m112s\u001b[0m 1s/step - accuracy: 0.4680 - loss: 0.9961 - val_accuracy: 0.5942 - val_loss: 0.9206\n",
      "Epoch 12/20\n",
      "\u001b[1m87/87\u001b[0m \u001b[32m━━━━━━━━━━━━━━━━━━━━\u001b[0m\u001b[37m\u001b[0m \u001b[1m123s\u001b[0m 1s/step - accuracy: 0.5051 - loss: 0.9707 - val_accuracy: 0.6058 - val_loss: 0.8912\n",
      "Epoch 13/20\n",
      "\u001b[1m87/87\u001b[0m \u001b[32m━━━━━━━━━━━━━━━━━━━━\u001b[0m\u001b[37m\u001b[0m \u001b[1m127s\u001b[0m 1s/step - accuracy: 0.5048 - loss: 0.9801 - val_accuracy: 0.5554 - val_loss: 0.9153\n",
      "Epoch 14/20\n",
      "\u001b[1m87/87\u001b[0m \u001b[32m━━━━━━━━━━━━━━━━━━━━\u001b[0m\u001b[37m\u001b[0m \u001b[1m127s\u001b[0m 1s/step - accuracy: 0.4301 - loss: 1.0450 - val_accuracy: 0.5353 - val_loss: 0.9418\n",
      "Epoch 15/20\n",
      "\u001b[1m87/87\u001b[0m \u001b[32m━━━━━━━━━━━━━━━━━━━━\u001b[0m\u001b[37m\u001b[0m \u001b[1m131s\u001b[0m 1s/step - accuracy: 0.4531 - loss: 1.0153 - val_accuracy: 0.6029 - val_loss: 0.9201\n",
      "Epoch 16/20\n",
      "\u001b[1m87/87\u001b[0m \u001b[32m━━━━━━━━━━━━━━━━━━━━\u001b[0m\u001b[37m\u001b[0m \u001b[1m133s\u001b[0m 2s/step - accuracy: 0.4840 - loss: 1.0144 - val_accuracy: 0.6158 - val_loss: 0.8788\n",
      "Epoch 17/20\n",
      "\u001b[1m87/87\u001b[0m \u001b[32m━━━━━━━━━━━━━━━━━━━━\u001b[0m\u001b[37m\u001b[0m \u001b[1m130s\u001b[0m 1s/step - accuracy: 0.5015 - loss: 0.9707 - val_accuracy: 0.5813 - val_loss: 0.8833\n",
      "Epoch 18/20\n",
      "\u001b[1m87/87\u001b[0m \u001b[32m━━━━━━━━━━━━━━━━━━━━\u001b[0m\u001b[37m\u001b[0m \u001b[1m122s\u001b[0m 1s/step - accuracy: 0.4768 - loss: 1.0110 - val_accuracy: 0.6014 - val_loss: 0.9138\n",
      "Epoch 19/20\n",
      "\u001b[1m87/87\u001b[0m \u001b[32m━━━━━━━━━━━━━━━━━━━━\u001b[0m\u001b[37m\u001b[0m \u001b[1m131s\u001b[0m 2s/step - accuracy: 0.4672 - loss: 0.9721 - val_accuracy: 0.6043 - val_loss: 0.8731\n",
      "Epoch 20/20\n",
      "\u001b[1m87/87\u001b[0m \u001b[32m━━━━━━━━━━━━━━━━━━━━\u001b[0m\u001b[37m\u001b[0m \u001b[1m129s\u001b[0m 1s/step - accuracy: 0.4905 - loss: 0.9618 - val_accuracy: 0.6288 - val_loss: 0.9903\n"
     ]
    },
    {
     "name": "stderr",
     "output_type": "stream",
     "text": [
      "WARNING:absl:You are saving your model as an HDF5 file via `model.save()` or `keras.saving.save_model(model)`. This file format is considered legacy. We recommend using instead the native Keras format, e.g. `model.save('my_model.keras')` or `keras.saving.save_model(model, 'my_model.keras')`. \n"
     ]
    },
    {
     "data": {
      "text/plain": [
       "<keras.src.callbacks.history.History at 0x1f26e6becf0>"
      ]
     },
     "execution_count": 6,
     "metadata": {},
     "output_type": "execute_result"
    }
   ],
   "source": [
    "train_cnn_model(cnn_model, train_generator, test_generator, epochs=20)"
   ]
  },
  {
   "cell_type": "markdown",
   "id": "0ec1a166-299a-4ac0-aa36-963a6482cf48",
   "metadata": {},
   "source": [
    "#### 3.4 Test and Evaluate model"
   ]
  },
  {
   "cell_type": "code",
   "execution_count": 7,
   "id": "09b37285-83f2-4416-b321-6d6800e73f7c",
   "metadata": {},
   "outputs": [
    {
     "name": "stderr",
     "output_type": "stream",
     "text": [
      "WARNING:absl:Compiled the loaded model, but the compiled metrics have yet to be built. `model.compile_metrics` will be empty until you train or evaluate the model.\n"
     ]
    },
    {
     "name": "stdout",
     "output_type": "stream",
     "text": [
      "\u001b[1m22/22\u001b[0m \u001b[32m━━━━━━━━━━━━━━━━━━━━\u001b[0m\u001b[37m\u001b[0m \u001b[1m6s\u001b[0m 242ms/step - accuracy: 0.6187 - loss: 0.9860\n",
      "Test accuracy: 62.88%\n",
      "Test loss: 0.9903\n"
     ]
    }
   ],
   "source": [
    "test_accuracy, test_loss = evaluate_model('cnn_model.h5', test_generator)"
   ]
  },
  {
   "cell_type": "markdown",
   "id": "dbd0e533-bb16-426a-aace-9e813b2c9bed",
   "metadata": {},
   "source": [
    "CNN model works really well for this Lung X-rays data for classifying diseases."
   ]
  }
 ],
 "metadata": {
  "kernelspec": {
   "display_name": "Python 3 (ipykernel)",
   "language": "python",
   "name": "python3"
  },
  "language_info": {
   "codemirror_mode": {
    "name": "ipython",
    "version": 3
   },
   "file_extension": ".py",
   "mimetype": "text/x-python",
   "name": "python",
   "nbconvert_exporter": "python",
   "pygments_lexer": "ipython3",
   "version": "3.12.4"
  }
 },
 "nbformat": 4,
 "nbformat_minor": 5
}
